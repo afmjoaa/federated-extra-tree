{
 "cells": [
  {
   "cell_type": "markdown",
   "id": "85eaa5a0-7453-4f87-9d20-dc0a97037aa9",
   "metadata": {
    "tags": []
   },
   "source": [
    "#### Seperate the input columns"
   ]
  },
  {
   "cell_type": "code",
   "execution_count": 16,
   "id": "e50630b4-5ac0-41c3-a923-37c9bf85d78b",
   "metadata": {},
   "outputs": [],
   "source": [
    "import pandas as pd\n",
    "import random\n",
    "\n",
    "df = pd.read_csv('ds_all.csv')\n",
    "X = df.drop(columns=['Loan_Status', 'Loan_ID'], axis=1)\n",
    "ran = random.randint(0, len(X.columns)-1)"
   ]
  },
  {
   "cell_type": "markdown",
   "id": "da97bdc5-0be4-40b7-bfba-635d7684afaf",
   "metadata": {},
   "source": [
    "#### Get the numerical value from string value -> client"
   ]
  },
  {
   "cell_type": "code",
   "execution_count": 17,
   "id": "c314f037-aaa1-4b08-88d4-b581c85f442e",
   "metadata": {},
   "outputs": [
    {
     "name": "stdout",
     "output_type": "stream",
     "text": [
      "    Education  Self_Employed  ApplicantIncome  LoanAmount  Credit_History  \\\n",
      "0           0              0             8334         160               1   \n",
      "1           0              0             4583         128               1   \n",
      "2           0              1             3000          66               1   \n",
      "3           1              0             2583         120               1   \n",
      "4           0              0             6000         141               1   \n",
      "5           0              1             5417         267               1   \n",
      "6           1              0             2333          95               1   \n",
      "7           0              0             3036         158               0   \n",
      "8           0              0             4006         168               1   \n",
      "9           0              0            12841         349               1   \n",
      "10          0              0             3200          70               1   \n",
      "11          0              0             3660         187               1   \n",
      "12          0              0             3073         200               1   \n",
      "13          0              0             1853         114               1   \n",
      "14          0              0             1299          17               1   \n",
      "15          0              0             4950         125               1   \n",
      "16          1              0             3596         100               1   \n",
      "17          0              0             3510          76               0   \n",
      "18          1              0             4887         133               1   \n",
      "19          0              0            37719         152               1   \n",
      "20          0              0             3340         150               0   \n",
      "21          1              1             2769         190               1   \n",
      "22          1              0             2309         125               0   \n",
      "23          1              0             1958          60               1   \n",
      "24          0              0             3948         149               0   \n",
      "25          0              0             2483          90               0   \n",
      "26          0              1             7085          84               1   \n",
      "27          0              0             3859          96               1   \n",
      "28          0              0             4301         118               1   \n",
      "29          0              0             3708         173               1   \n",
      "30          0              0             4354         136               1   \n",
      "31          0              0             8334         160               1   \n",
      "32          0              1             2083         160               0   \n",
      "33          0              0             7740         128               1   \n",
      "34          0              0             3015         153               1   \n",
      "35          0              1             2895          95               1   \n",
      "36          0              0             4166          98               0   \n",
      "37          0              0             6000         140               1   \n",
      "38          1              0             2947          70               0   \n",
      "39          0              0            16692         110               1   \n",
      "\n",
      "    Property_Area  \n",
      "0               1  \n",
      "1               0  \n",
      "2               2  \n",
      "3               2  \n",
      "4               2  \n",
      "5               2  \n",
      "6               2  \n",
      "7               1  \n",
      "8               2  \n",
      "9               1  \n",
      "10              2  \n",
      "11              1  \n",
      "12              2  \n",
      "13              0  \n",
      "14              2  \n",
      "15              2  \n",
      "16              2  \n",
      "17              2  \n",
      "18              0  \n",
      "19              1  \n",
      "20              0  \n",
      "21              1  \n",
      "22              0  \n",
      "23              2  \n",
      "24              0  \n",
      "25              0  \n",
      "26              1  \n",
      "27              1  \n",
      "28              2  \n",
      "29              2  \n",
      "30              0  \n",
      "31              1  \n",
      "32              1  \n",
      "33              2  \n",
      "34              0  \n",
      "35              1  \n",
      "36              1  \n",
      "37              0  \n",
      "38              2  \n",
      "39              1  \n"
     ]
    }
   ],
   "source": [
    "from sklearn import preprocessing\n",
    "\n",
    "def convert_string_columns_to_numeric(df):\n",
    "    # Select all columns with string values\n",
    "    string_columns = df.select_dtypes(include='object')\n",
    "\n",
    "    # Create a label encoder for each string column\n",
    "    label_encoders = {column: preprocessing.LabelEncoder() for column in string_columns}\n",
    "\n",
    "    # Encode the string values in each column\n",
    "    df[string_columns.columns] = string_columns.apply(lambda x: label_encoders[x.name].fit_transform(x))\n",
    "\n",
    "    # Return the modified dataframe\n",
    "    return df\n",
    "\n",
    "numerical_column = convert_string_columns_to_numeric(X)\n",
    "print(numerical_column)\n"
   ]
  },
  {
   "cell_type": "markdown",
   "id": "6525fa44-186e-4878-ab4c-ca83fcd11bc5",
   "metadata": {},
   "source": [
    "#### Get random split value -> Client\n",
    "#### Get the randomly selected 50% input columns -> Master"
   ]
  },
  {
   "cell_type": "code",
   "execution_count": 18,
   "id": "8c47cdc6-38e0-4a75-ac14-5343654671e7",
   "metadata": {},
   "outputs": [
    {
     "name": "stdout",
     "output_type": "stream",
     "text": [
      "    Credit_History  Education  Property_Area\n",
      "0                1          0              1\n",
      "1                1          0              0\n",
      "2                1          0              2\n",
      "3                1          1              2\n",
      "4                1          0              2\n",
      "5                1          0              2\n",
      "6                1          1              2\n",
      "7                0          0              1\n",
      "8                1          0              2\n",
      "9                1          0              1\n",
      "10               1          0              2\n",
      "11               1          0              1\n",
      "12               1          0              2\n",
      "13               1          0              0\n",
      "14               1          0              2\n",
      "15               1          0              2\n",
      "16               1          1              2\n",
      "17               0          0              2\n",
      "18               1          1              0\n",
      "19               1          0              1\n",
      "20               0          0              0\n",
      "21               1          1              1\n",
      "22               0          1              0\n",
      "23               1          1              2\n",
      "24               0          0              0\n",
      "25               0          0              0\n",
      "26               1          0              1\n",
      "27               1          0              1\n",
      "28               1          0              2\n",
      "29               1          0              2\n",
      "30               1          0              0\n",
      "31               1          0              1\n",
      "32               0          0              1\n",
      "33               1          0              2\n",
      "34               1          0              0\n",
      "35               1          0              1\n",
      "36               0          0              1\n",
      "37               1          0              0\n",
      "38               0          1              2\n",
      "39               1          0              1\n"
     ]
    }
   ],
   "source": [
    "import pandas as pd\n",
    "import numpy as np\n",
    "\n",
    "def select_random_features(df):\n",
    "  # Get the number of columns in the dataframe\n",
    "  n_cols = df.shape[1]\n",
    "\n",
    "  # Select a random 50% of the columns\n",
    "  col_indices = np.random.choice(range(n_cols), size=int(n_cols / 2), replace=False)\n",
    "\n",
    "  # Return a new dataframe with only the selected columns\n",
    "  return df.iloc[:, col_indices]\n",
    "                \n",
    "random_features = select_random_features(numerical_column)\n",
    "print(random_features)"
   ]
  },
  {
   "cell_type": "markdown",
   "id": "64a96d60-b9a0-4e6f-ae00-e075df2491bf",
   "metadata": {},
   "source": [
    "#### Get random split value from min and max"
   ]
  },
  {
   "cell_type": "code",
   "execution_count": 22,
   "id": "e8a827e4-de10-4869-a1ea-2cbc387277d0",
   "metadata": {},
   "outputs": [
    {
     "name": "stdout",
     "output_type": "stream",
     "text": [
      "Self_Employed\n",
      "0.6174726510409408\n"
     ]
    }
   ],
   "source": [
    "import numpy as np\n",
    "\n",
    "def get_random_value_from_range(column):\n",
    "  # Get the minimum and maximum values of the column\n",
    "  min_value = column.min()\n",
    "  max_value = column.max()\n",
    "\n",
    "  # Generate a random value between the min and max values\n",
    "  random_value = np.random.uniform(min_value, max_value)\n",
    "\n",
    "  return random_value\n",
    "\n",
    "\n",
    "# Get the name of the first column\n",
    "first_column_name = numerical_column.columns[1]\n",
    "print(first_column_name)\n",
    "\n",
    "# Get the first column using its name\n",
    "first_column = numerical_column[first_column_name]\n",
    "\n",
    "random_split_value = get_random_value_from_range(first_column)\n",
    "print(random_split_value)"
   ]
  },
  {
   "cell_type": "markdown",
   "id": "6ebc8166-04a9-47d0-bf1c-c8361745ca54",
   "metadata": {},
   "source": [
    "#### Split the sample space based on the split threashold"
   ]
  },
  {
   "cell_type": "code",
   "execution_count": 24,
   "id": "e78ee25a-db44-4e98-be7a-539409e2df9b",
   "metadata": {},
   "outputs": [
    {
     "name": "stdout",
     "output_type": "stream",
     "text": [
      "    Education  Self_Employed  ApplicantIncome  LoanAmount  Credit_History  \\\n",
      "0           0              0             8334         160               1   \n",
      "1           0              0             4583         128               1   \n",
      "3           1              0             2583         120               1   \n",
      "4           0              0             6000         141               1   \n",
      "6           1              0             2333          95               1   \n",
      "7           0              0             3036         158               0   \n",
      "8           0              0             4006         168               1   \n",
      "9           0              0            12841         349               1   \n",
      "10          0              0             3200          70               1   \n",
      "11          0              0             3660         187               1   \n",
      "12          0              0             3073         200               1   \n",
      "13          0              0             1853         114               1   \n",
      "14          0              0             1299          17               1   \n",
      "15          0              0             4950         125               1   \n",
      "16          1              0             3596         100               1   \n",
      "17          0              0             3510          76               0   \n",
      "18          1              0             4887         133               1   \n",
      "19          0              0            37719         152               1   \n",
      "20          0              0             3340         150               0   \n",
      "22          1              0             2309         125               0   \n",
      "23          1              0             1958          60               1   \n",
      "24          0              0             3948         149               0   \n",
      "25          0              0             2483          90               0   \n",
      "27          0              0             3859          96               1   \n",
      "28          0              0             4301         118               1   \n",
      "29          0              0             3708         173               1   \n",
      "30          0              0             4354         136               1   \n",
      "31          0              0             8334         160               1   \n",
      "33          0              0             7740         128               1   \n",
      "34          0              0             3015         153               1   \n",
      "36          0              0             4166          98               0   \n",
      "37          0              0             6000         140               1   \n",
      "38          1              0             2947          70               0   \n",
      "39          0              0            16692         110               1   \n",
      "\n",
      "    Property_Area  \n",
      "0               1  \n",
      "1               0  \n",
      "3               2  \n",
      "4               2  \n",
      "6               2  \n",
      "7               1  \n",
      "8               2  \n",
      "9               1  \n",
      "10              2  \n",
      "11              1  \n",
      "12              2  \n",
      "13              0  \n",
      "14              2  \n",
      "15              2  \n",
      "16              2  \n",
      "17              2  \n",
      "18              0  \n",
      "19              1  \n",
      "20              0  \n",
      "22              0  \n",
      "23              2  \n",
      "24              0  \n",
      "25              0  \n",
      "27              1  \n",
      "28              2  \n",
      "29              2  \n",
      "30              0  \n",
      "31              1  \n",
      "33              2  \n",
      "34              0  \n",
      "36              1  \n",
      "37              0  \n",
      "38              2  \n",
      "39              1  \n",
      "    Education  Self_Employed  ApplicantIncome  LoanAmount  Credit_History  \\\n",
      "2           0              1             3000          66               1   \n",
      "5           0              1             5417         267               1   \n",
      "21          1              1             2769         190               1   \n",
      "26          0              1             7085          84               1   \n",
      "32          0              1             2083         160               0   \n",
      "35          0              1             2895          95               1   \n",
      "\n",
      "    Property_Area  \n",
      "2               2  \n",
      "5               2  \n",
      "21              1  \n",
      "26              1  \n",
      "32              1  \n",
      "35              1  \n"
     ]
    }
   ],
   "source": [
    "import pandas as pd\n",
    "\n",
    "def split_dataframe_on_column_value(df, column_name, split_value):\n",
    "  # Select rows with values less than or equal to the split value\n",
    "  df1 = df[df[column_name] <= split_value]\n",
    "\n",
    "  # Select rows with values greater than the split value\n",
    "  df2 = df[df[column_name] > split_value]\n",
    "\n",
    "  # Return the two dataframes as a tuple\n",
    "  return df1, df2\n",
    "\n",
    "\n",
    "df1, df2 = split_dataframe_on_column_value(numerical_column, first_column_name, random_split_value)\n",
    "\n",
    "# Print the resulting dataframes\n",
    "print(df1)\n",
    "print(df2)"
   ]
  },
  {
   "cell_type": "markdown",
   "id": "0600f0a4-b3d2-45ab-97e7-8f79223b9452",
   "metadata": {},
   "source": [
    "#### Aggregate the label for the sperated datasets -> client run for each sperated dataframe"
   ]
  },
  {
   "cell_type": "code",
   "execution_count": 7,
   "id": "ac491470-4596-4693-9776-5d89795b8b30",
   "metadata": {},
   "outputs": [
    {
     "name": "stdout",
     "output_type": "stream",
     "text": [
      "['Y', 'N']\n",
      "[22, 14]\n"
     ]
    }
   ],
   "source": [
    "def get_column_value_counts(df, column_name):\n",
    "  # Get the value counts of the column\n",
    "  value_counts = df[column_name].value_counts()\n",
    "\n",
    "  # Get the unique values and counts as two separate lists\n",
    "  unique_values = value_counts.index.tolist()\n",
    "  counts = value_counts.values.tolist()\n",
    "\n",
    "  # Return the unique values and counts as a tuple\n",
    "  return unique_values, counts\n",
    "\n",
    "# Get the value counts of a column\n",
    "unique_values, counts = get_column_value_counts(df2, 'Loan_Status')\n",
    "\n",
    "# Print the unique values and counts\n",
    "print(unique_values)\n",
    "print(counts)"
   ]
  },
  {
   "cell_type": "markdown",
   "id": "50d76a6f-a8b0-449a-9133-04c693d0311b",
   "metadata": {},
   "source": [
    "#### Sum the splited values - master"
   ]
  },
  {
   "cell_type": "code",
   "execution_count": 8,
   "id": "5f072590-d839-4d4d-9334-2fb195374c8e",
   "metadata": {},
   "outputs": [
    {
     "name": "stdout",
     "output_type": "stream",
     "text": [
      "0.47530864197530853\n"
     ]
    }
   ],
   "source": [
    "def gini_impurity_of_leaf(counts):\n",
    "  # Get the size of the sample space\n",
    "  n = sum(counts)\n",
    "\n",
    "  # Calculate the Gini impurity\n",
    "  impurity = 1 - sum((count / n) ** 2 for count in counts)\n",
    "\n",
    "  return impurity\n",
    "\n",
    "impurity = gini_impurity_of_leaf(counts)\n",
    "print(impurity)"
   ]
  },
  {
   "cell_type": "markdown",
   "id": "9c68fcda-abc4-4cd4-975f-ad86997cdfd9",
   "metadata": {},
   "source": [
    "#### Calculate gini impurity of node"
   ]
  },
  {
   "cell_type": "code",
   "execution_count": 9,
   "id": "9811106a-4b43-4516-a083-bff87a50cdb6",
   "metadata": {},
   "outputs": [
    {
     "name": "stdout",
     "output_type": "stream",
     "text": [
      "0.47530864197530853\n"
     ]
    }
   ],
   "source": [
    "def gini_impurity_of_node(gi1, count1, gi2, count2):\n",
    "    n = count1 + count2\n",
    "    \n",
    "    avg_impurity = (gi1*count1)/n + (gi2*count2)/n\n",
    "    \n",
    "    return avg_impurity\n",
    "\n",
    "avg_impurity = gini_impurity_of_node(impurity, sum(counts), impurity, sum(counts))\n",
    "print(avg_impurity)"
   ]
  },
  {
   "cell_type": "markdown",
   "id": "a2a2cc03-e5ba-4d34-98b4-5d12396ea16d",
   "metadata": {},
   "source": [
    "#### Function for stopping condition"
   ]
  },
  {
   "cell_type": "code",
   "execution_count": 10,
   "id": "d5a80f30-cf97-4fa5-a142-580899784d77",
   "metadata": {},
   "outputs": [
    {
     "name": "stdout",
     "output_type": "stream",
     "text": [
      "False\n"
     ]
    }
   ],
   "source": [
    "def isStoppingCondition(counts,treeheight):\n",
    "    approvedLoan_count = counts[0]\n",
    "    declinedLoan_count = counts[1]\n",
    "    \n",
    "    if approvedLoan_count >= declinedLoan_count:\n",
    "        percentage = (approvedLoan_count/sum(counts))\n",
    "    else:\n",
    "        percentage = (declinedLoan_count/sum(counts))\n",
    "\n",
    "    decision = (percentage >= .80) or (treeheight >= 3)\n",
    "    return decision\n",
    "\n",
    "treeheight = 2\n",
    "print(isStoppingCondition(counts, treeheight))"
   ]
  },
  {
   "cell_type": "markdown",
   "id": "195e1c91-7744-4e31-a691-8d2aa9277683",
   "metadata": {},
   "source": [
    "#### Build the tree -> master"
   ]
  },
  {
   "cell_type": "code",
   "execution_count": 14,
   "id": "adc281e8-2c2d-40b1-a74f-59b5c26ea9b1",
   "metadata": {},
   "outputs": [
    {
     "name": "stdout",
     "output_type": "stream",
     "text": [
      "['ApplicantIncome', 'LoanAmount', 'LoanAmount']\n"
     ]
    }
   ],
   "source": [
    "import random\n",
    "\n",
    "def random_subset(lst):\n",
    "    result = []\n",
    "    for i in range(len(lst)//2):\n",
    "        index = random.randint(0, len(lst)-1)\n",
    "        result.append(lst[index])\n",
    "    return result\n",
    "\n",
    "\n",
    "class TreeNode:\n",
    "    def __init__(self, feature=None, split_value=0, tree_height=0, leaf_value=None, left=None, right=None):\n",
    "        self.feature = feature\n",
    "        self.split_value = split_value\n",
    "        self.tree_height = tree_height\n",
    "        self.leaf_value = leaf_value\n",
    "        self.left = left\n",
    "        self.right = right\n",
    "\n",
    "feature_list = ['Education','Self_Employed','ApplicantIncome','LoanAmount','Credit_History','Property_Area']\n",
    "\n",
    "random_feature_set = random_subset(feature_list)\n",
    "print(random_feature_set)\n",
    "\n",
    "\n"
   ]
  },
  {
   "cell_type": "code",
   "execution_count": null,
   "id": "ccb10e38-5e6c-40dc-9103-6de0f9102afc",
   "metadata": {},
   "outputs": [],
   "source": [
    "import random\n",
    "\n",
    "def get_random_element(arr):\n",
    "    # Get a random index from the array\n",
    "    random_index = random.randint(0, len(arr)-1)\n",
    "    # Return the element at the random index\n",
    "    return arr[random_index]\n"
   ]
  },
  {
   "cell_type": "code",
   "execution_count": 15,
   "id": "f8f33e04-bf41-4bdf-b029-ae13e6ce8df2",
   "metadata": {},
   "outputs": [
    {
     "ename": "ModuleNotFoundError",
     "evalue": "No module named 'google'",
     "output_type": "error",
     "traceback": [
      "\u001b[0;31m---------------------------------------------------------------------------\u001b[0m",
      "\u001b[0;31mModuleNotFoundError\u001b[0m                       Traceback (most recent call last)",
      "Cell \u001b[0;32mIn [15], line 1\u001b[0m\n\u001b[0;32m----> 1\u001b[0m \u001b[38;5;28;01mimport\u001b[39;00m \u001b[38;5;21;01mfet_pb2\u001b[39;00m\n\u001b[1;32m      3\u001b[0m \u001b[38;5;28;01mdef\u001b[39;00m \u001b[38;5;21mget_global_lebel_count\u001b[39m(aggregatedValueList):\n\u001b[1;32m      4\u001b[0m     accumulated_count_left \u001b[38;5;241m=\u001b[39m [\u001b[38;5;241m0\u001b[39m,\u001b[38;5;241m0\u001b[39m]\n",
      "File \u001b[0;32m~/PycharmProjects/fet/master/fet_pb2.py:5\u001b[0m\n\u001b[1;32m      1\u001b[0m \u001b[38;5;66;03m# -*- coding: utf-8 -*-\u001b[39;00m\n\u001b[1;32m      2\u001b[0m \u001b[38;5;66;03m# Generated by the protocol buffer compiler.  DO NOT EDIT!\u001b[39;00m\n\u001b[1;32m      3\u001b[0m \u001b[38;5;66;03m# source: fet.proto\u001b[39;00m\n\u001b[1;32m      4\u001b[0m \u001b[38;5;124;03m\"\"\"Generated protocol buffer code.\"\"\"\u001b[39;00m\n\u001b[0;32m----> 5\u001b[0m \u001b[38;5;28;01mfrom\u001b[39;00m \u001b[38;5;21;01mgoogle\u001b[39;00m\u001b[38;5;21;01m.\u001b[39;00m\u001b[38;5;21;01mprotobuf\u001b[39;00m \u001b[38;5;28;01mimport\u001b[39;00m descriptor \u001b[38;5;28;01mas\u001b[39;00m _descriptor\n\u001b[1;32m      6\u001b[0m \u001b[38;5;28;01mfrom\u001b[39;00m \u001b[38;5;21;01mgoogle\u001b[39;00m\u001b[38;5;21;01m.\u001b[39;00m\u001b[38;5;21;01mprotobuf\u001b[39;00m \u001b[38;5;28;01mimport\u001b[39;00m descriptor_pool \u001b[38;5;28;01mas\u001b[39;00m _descriptor_pool\n\u001b[1;32m      7\u001b[0m \u001b[38;5;28;01mfrom\u001b[39;00m \u001b[38;5;21;01mgoogle\u001b[39;00m\u001b[38;5;21;01m.\u001b[39;00m\u001b[38;5;21;01mprotobuf\u001b[39;00m \u001b[38;5;28;01mimport\u001b[39;00m message \u001b[38;5;28;01mas\u001b[39;00m _message\n",
      "\u001b[0;31mModuleNotFoundError\u001b[0m: No module named 'google'"
     ]
    }
   ],
   "source": [
    "import fet_pb2\n",
    "\n",
    "def get_global_lebel_count(aggregatedValueList):\n",
    "    accumulated_count_left = [0,0]\n",
    "    accumulated_count_right = [0,0]\n",
    "    \n",
    "    global_lebel_count: list[fet_pb2.GetAggregatedValuesFromClientResponse] = []\n",
    "    \n",
    "    for lebel in global_lebel_count:\n",
    "        accumulated_count_left[0] += lebel.aggregatedValueLeft.approvedLoan\n",
    "        accumulated_count_left[1] += lebel.aggregatedValueLeft.declinedLoan\n",
    "        \n",
    "        accumulated_count_right[0] += lebel.aggregatedValueRight.approvedLoan\n",
    "        accumulated_count_right[1] += lebel.aggregatedValueRight.declinedLoan\n",
    "        \n",
    "    return accumulated_count_left, accumulated_count_right\n",
    "            "
   ]
  },
  {
   "cell_type": "code",
   "execution_count": null,
   "id": "1803a25e-7401-4ee1-8da3-67b07101c31f",
   "metadata": {},
   "outputs": [],
   "source": [
    "class GiniImpurity:\n",
    "    def __init__(self, gini_impurity=0, feature='', split_value=0):\n",
    "        self.gini_impurity = gini_impurity\n",
    "        self.feature = feature\n",
    "        self.split_value = split_value"
   ]
  },
  {
   "cell_type": "code",
   "execution_count": null,
   "id": "4b14ae62-d1b6-425a-901d-87ccc8517c08",
   "metadata": {},
   "outputs": [],
   "source": [
    "def getSplitValueFromClient(client_id, feature_name):\n",
    "    response = 0\n",
    "    with grpc.insecure_channel(f'localhost:{client_id}') as channel:\n",
    "        # Fet service client test\n",
    "        stub = fet_pb2_grpc.MasterClientCommunicationServiceStub(channel)\n",
    "        response = stub.GetRandomSplitValueFromClient(fet_pb2.GetRandomSplitValueFromClientRequest(feature=feature_name, clientId=client_id))\n",
    "        channel.close()\n",
    "    return response\n",
    "     \n",
    "def getAggregatedValueFromClient(client_id, feature_name, split_value, data_set):\n",
    "    response = None\n",
    "    with grpc.insecure_channel(f'localhost:{client_id}') as channel:\n",
    "        stub = fet_pb2_grpc.MasterClientCommunicationServiceStub(channel)\n",
    "        response = stub.GetAggregatedValuesFromClient(fet_pb2.GetAggregatedValuesFromClientRequest(feature=feature_name, \n",
    "                                                                                                   clientId=client_id, \n",
    "                                                                                                   splitValue=split_value,\n",
    "                                                                                                   dataSet = data_set))\n",
    "        channel.close()\n",
    "    return response\n",
    "\n",
    "def broadCastTreeNodeBasedOnBestSplit(feature, split_value, tree_height):\n",
    "    with grpc.insecure_channel(f'localhost:{client_id}') as channel:\n",
    "        stub = fet_pb2_grpc.MasterClientCommunicationServiceStub(channel)\n",
    "        response = stub.BroadcastTreeNodesBasedOnBestSplit(\n",
    "            fet_pb2.BroadcastTreeNodesBasedOnBestSplitRequest(feature=feature, splitValue=split_value, treeHeight=tree_height))\n",
    "        channel.close()\n",
    "    "
   ]
  },
  {
   "cell_type": "code",
   "execution_count": null,
   "id": "ae6b0704-ed32-4765-b0cb-6a11f981bafd",
   "metadata": {},
   "outputs": [],
   "source": [
    "def get_min_gini_impurity(arr: list[GiniImpurity]):\n",
    "    # Set the initial minimum value to the first element in the list\n",
    "    min_value = arr[0]\n",
    "    # Iterate over the elements in the list\n",
    "    for element in arr:\n",
    "        # If the current element is less than the current minimum value, update the minimum value\n",
    "        if element.gini_impurity < min_value.gini_impurity:\n",
    "            min_value = element\n",
    "    # Return the minimum value\n",
    "    return min_value\n"
   ]
  },
  {
   "cell_type": "code",
   "execution_count": null,
   "id": "4fce7c24-cf24-4597-bc64-9e52b45bde25",
   "metadata": {},
   "outputs": [],
   "source": [
    "# buildTree for master\n",
    "# Append the tree inside the forest\n",
    "\n",
    "forest = []\n",
    "\n",
    "\n",
    "# for first time aggregated_label can be [1,1] or 50/50 \n",
    "# dataset can be 'Full'\n",
    "# tree_height = 0\n",
    "def buildTree(feature_list, aggregated_label, tree_height, dataset):\n",
    "    if isStoppingCondition(aggregated_label, tree_height):\n",
    "        if (aggregated_label[0] >= aggregated_label[1]):\n",
    "            return TreeNode(leaf_value='Y')\n",
    "        else:\n",
    "            return TreeNode(leaf_value='N')\n",
    "        \n",
    "    \n",
    "    # Randomly choose feature subset\n",
    "    random_feature_set = random_subset(feature_list)\n",
    "    \n",
    "    client_set = [8282, 8383]\n",
    "    \n",
    "    gini_impurity_list: list[GiniImpurity] = []\n",
    "    \n",
    "    \n",
    "    for feature in random_feature_set:\n",
    "        \n",
    "        # get the split value for each client\n",
    "        split_value_set = []\n",
    "        for client in client_set:\n",
    "            split_value_set.append(getSplitValueFromClient(feature, client))\n",
    "        \n",
    "        split_value = get_random_element(split_value_set)\n",
    "        \n",
    "        \n",
    "        # gather sum_left and sum_right from each client\n",
    "        aggregatedValueList = []\n",
    "        for client in client_set:\n",
    "            aggregatedValueList.append(getAggregatedValueFromClient(feature, client, split_value, dataset))\n",
    "            \n",
    "        CL, CR = get_global_lebel_count(aggregatedValueList)\n",
    "        gini_impurity_value = gini_impurity_of_node(gini_impurity_of_leaf(CL), CL, gini_impurity_of_leaf(CR), CR)\n",
    "        \n",
    "        gini_impurity_list.append(GiniImpurity(gini_impurity=gini_impurity_value, feature=feature, split_value=split_value))\n",
    "    \n",
    "    currently_best_split_feature = get_min_gini_impurity(gini_impurity_list)\n",
    "    \n",
    "    # TODO broadcast best_split_feature\n",
    "    broadCastTreeNodeBasedOnBestSplit(currently_best_split_feature.feature, currently_best_split_feature.split_value, tree_height)\n",
    "    \n",
    "    \n",
    "    # calculate aggregated label\n",
    "    bestAggregatedValueList = []\n",
    "    for client in client_set:\n",
    "        bestAggregatedValueList.append(\n",
    "            getAggregatedValueFromClient(currently_best_split_feature.feature, \n",
    "                                        client, \n",
    "                                        currently_best_split_feature.split_value,\n",
    "                                        dataset))\n",
    "\n",
    "    BCL, BCR = get_global_lebel_count(bestAggregatedValueList)\n",
    "    \n",
    "    \n",
    "    node = TreeNode(feature=currently_best_split_feature.feature, \n",
    "                    split_value=currently_best_split_feature.split_value, \n",
    "                    tree_height=tree_height)\n",
    "    \n",
    "    # for key of data we can use f'{tree_height}_left' and f'{tree_height}_right'\n",
    "    \n",
    "    new_tree_height = tree_height+1\n",
    "    node.left = buildTree(feature_list, BCL, new_tree_height, f'{new_tree_height}_left')\n",
    "    node.right = buildTree(feature_list, BCR, new_tree_height, f'{new_tree_height}_right')\n",
    "    return node\n",
    "        \n"
   ]
  }
 ],
 "metadata": {
  "kernelspec": {
   "display_name": "Python 3 (ipykernel)",
   "language": "python",
   "name": "python3"
  },
  "language_info": {
   "codemirror_mode": {
    "name": "ipython",
    "version": 3
   },
   "file_extension": ".py",
   "mimetype": "text/x-python",
   "name": "python",
   "nbconvert_exporter": "python",
   "pygments_lexer": "ipython3",
   "version": "3.9.6"
  }
 },
 "nbformat": 4,
 "nbformat_minor": 5
}
